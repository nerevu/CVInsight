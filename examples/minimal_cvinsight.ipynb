{
 "cells": [
  {
   "cell_type": "markdown",
   "id": "f4c57b5d",
   "metadata": {},
   "source": [
    "# CVInsight Minimal Example\n",
    "\n",
    "A minimal example of using CVInsight for resume parsing."
   ]
  },
  {
   "cell_type": "code",
   "execution_count": 1,
   "id": "8389bc5f",
   "metadata": {},
   "outputs": [
    {
     "name": "stdout",
     "output_type": "stream",
     "text": [
      "Client initialized\n"
     ]
    }
   ],
   "source": [
    "# Basic imports\n",
    "import os\n",
    "import sys\n",
    "import pandas as pd\n",
    "\n",
    "# Add CVInsight to path and import core functions\n",
    "sys.path.insert(0, \"/Users/samcelarek/Documents/CVInsight\")\n",
    "from cvinsight.notebook_utils import initialize_client, parse_single_resume, parse_many_resumes, find_resumes\n",
    "\n",
    "# Get API key (from environment or direct input)\n",
    "api_key = os.environ.get(\"OPEN_AI_API_KEY\")\n",
    "if not api_key:\n",
    "    api_key = input(\"Enter your API key: \")\n",
    "\n",
    "# Initialize client\n",
    "client = initialize_client(api_key=api_key)\n",
    "print(\"Client initialized\")"
   ]
  },
  {
   "cell_type": "code",
   "execution_count": 2,
   "id": "db39f0d7",
   "metadata": {},
   "outputs": [
    {
     "name": "stdout",
     "output_type": "stream",
     "text": [
      "Found 21 resumes\n"
     ]
    }
   ],
   "source": [
    "# Find resumes in directory\n",
    "resume_dir = \"../Resumes\"\n",
    "resume_paths = find_resumes(resume_dir)\n",
    "print(f\"Found {len(resume_paths)} resumes\")\n",
    "\n",
    "# Parameters for resume parsing\n",
    "job_description = \"Data Analyst with Python and SQL skills\"\n",
    "date_of_resume_submission = \"2025-05-21\""
   ]
  },
  {
   "cell_type": "code",
   "execution_count": 3,
   "id": "ba55ab82",
   "metadata": {},
   "outputs": [
    {
     "name": "stdout",
     "output_type": "stream",
     "text": [
      "Name: Wesley Ordoñez\n",
      "Email: wesordonez1@gmail.com\n",
      "Skills: CSS, HTML, JavaScript, Python, SQL...\n",
      "\n",
      "Years of Experience:\n",
      "YoE (raw): 6 Years 11 Months\n",
      "YoE (numeric): 6.0\n",
      "Education YoE: 0\n",
      "Total YoE (numeric): 6.0\n",
      "Relevant YoE: 8.1\n",
      "\n",
      "Education and Work Experience:\n",
      "Education:\n",
      "- Bachelor of Science in Mechanical Engineering (concentration: Design Engineering) at ROSE-HULMAN INSTITUTE OF TECHNOLOGY\n",
      "- Data Science and Machine Learning, Google Data Analytics Professional Certificate at ONLINE COURSEWORK (UDEMY/GOOGLE)\n",
      "\n",
      "Work Experience:\n",
      "- Unknown position at Puerto Rican Cultural Center\n",
      "- Unknown position at Versatech LLC\n"
     ]
    }
   ],
   "source": [
    "# Parse a single resume\n",
    "if resume_paths:\n",
    "    try:\n",
    "        result = parse_single_resume(\n",
    "            client=client,\n",
    "            resume_path=resume_paths[0],\n",
    "            date_of_resume_submission=date_of_resume_submission,\n",
    "            job_description=job_description\n",
    "        )\n",
    "        \n",
    "        # Safe display of key information with error handling\n",
    "        print(f\"Name: {result.get('name', 'Not available')}\")\n",
    "        print(f\"Email: {result.get('email', 'Not available')}\")\n",
    "        \n",
    "        # Safely get skills\n",
    "        skills = result.get('skills', [])\n",
    "        if skills:\n",
    "            skill_str = ', '.join(skills[:5]) + ('...' if len(skills) > 5 else '')\n",
    "            print(f\"Skills: {skill_str}\")\n",
    "        else:\n",
    "            print(\"Skills: Not available\")\n",
    "        \n",
    "        # Safely get YoE values (handling string/float conversion issues)\n",
    "        print(f\"\\nYears of Experience:\")\n",
    "        print(f\"YoE (raw): {result.get('YoE', 'Not available')}\")\n",
    "        print(f\"YoE (numeric): {result.get('all_work_yoe_numeric', 'Not available')}\")\n",
    "        print(f\"Education YoE: {result.get('all_edu_yoe', 'Not available')}\")\n",
    "        print(f\"Total YoE (numeric): {result.get('all_total_yoe', 'Not available')}\")\n",
    "        print(f\"Relevant YoE: {result.get('relevant_total_yoe', 'Not available')}\")\n",
    "        \n",
    "        # Display additional info\n",
    "        print(\"\\nEducation and Work Experience:\")\n",
    "        # Display education info safely\n",
    "        educations = result.get('educations', [])\n",
    "        if educations:\n",
    "            print(\"Education:\")\n",
    "            for edu in educations[:2]:  # Show only first 2 for brevity\n",
    "                degree = edu.get('degree', 'Unknown')\n",
    "                institution = edu.get('institution', 'Unknown')\n",
    "                print(f\"- {degree} at {institution}\")\n",
    "        else:\n",
    "            print(\"Education: Not available\")\n",
    "            \n",
    "        # Display work experience info safely\n",
    "        work_experiences = result.get('work_experiences', [])\n",
    "        if work_experiences:\n",
    "            print(\"\\nWork Experience:\")\n",
    "            for exp in work_experiences[:2]:  # Show only first 2 for brevity\n",
    "                title = exp.get('title', 'Unknown position')\n",
    "                company = exp.get('company', 'Unknown company')\n",
    "                print(f\"- {title} at {company}\")\n",
    "        else:\n",
    "            print(\"Work Experience: Not available\")\n",
    "    except Exception as e:\n",
    "        print(f\"❌ Error parsing resume: {str(e)}\")\n",
    "        import traceback\n",
    "        traceback.print_exc()\n",
    "        # Continue execution despite error"
   ]
  },
  {
   "cell_type": "code",
   "execution_count": 4,
   "id": "061783be",
   "metadata": {},
   "outputs": [
    {
     "name": "stderr",
     "output_type": "stream",
     "text": [
      "Parsing resumes: 100%|██████████| 3/3 [00:51<00:00, 17.32s/it]"
     ]
    },
    {
     "name": "stdout",
     "output_type": "stream",
     "text": [
      "Processed 3 resumes\n",
      "Successfully parsed: 3\n",
      "\n",
      "YoE Statistics:\n",
      "Average Total YoE: 4.7 years\n",
      "Min Total YoE: 3.0 years\n",
      "Max Total YoE: 6.0 years\n"
     ]
    },
    {
     "name": "stderr",
     "output_type": "stream",
     "text": [
      "\n"
     ]
    },
    {
     "data": {
      "text/html": [
       "<div>\n",
       "<style scoped>\n",
       "    .dataframe tbody tr th:only-of-type {\n",
       "        vertical-align: middle;\n",
       "    }\n",
       "\n",
       "    .dataframe tbody tr th {\n",
       "        vertical-align: top;\n",
       "    }\n",
       "\n",
       "    .dataframe thead th {\n",
       "        text-align: right;\n",
       "    }\n",
       "</style>\n",
       "<table border=\"1\" class=\"dataframe\">\n",
       "  <thead>\n",
       "    <tr style=\"text-align: right;\">\n",
       "      <th></th>\n",
       "      <th>filename</th>\n",
       "      <th>name</th>\n",
       "      <th>email</th>\n",
       "      <th>YoE</th>\n",
       "      <th>all_total_yoe</th>\n",
       "      <th>parsing_status</th>\n",
       "    </tr>\n",
       "  </thead>\n",
       "  <tbody>\n",
       "    <tr>\n",
       "      <th>0</th>\n",
       "      <td>2023-08-28 - Wesley Ordonez Resume Wesley Ordo...</td>\n",
       "      <td>Wesley Ordoñez</td>\n",
       "      <td>wesordonez1@gmail.com</td>\n",
       "      <td>6 Years 11 Months</td>\n",
       "      <td>6.0</td>\n",
       "      <td>success</td>\n",
       "    </tr>\n",
       "    <tr>\n",
       "      <th>1</th>\n",
       "      <td>2023-08-26 - Akhil Bukkapuram Resume Akhil_ds.pdf</td>\n",
       "      <td>Akhil Bukkapuram</td>\n",
       "      <td>bakhil@ncsu.edu</td>\n",
       "      <td>5 Years 0 Months</td>\n",
       "      <td>5.0</td>\n",
       "      <td>success</td>\n",
       "    </tr>\n",
       "    <tr>\n",
       "      <th>2</th>\n",
       "      <td>2023-08-20 - Weihao Chen Resume Resume_Weihao ...</td>\n",
       "      <td>Weihao Chen</td>\n",
       "      <td>wchen151@jh.edu</td>\n",
       "      <td>3 Years 0 Months</td>\n",
       "      <td>3.0</td>\n",
       "      <td>success</td>\n",
       "    </tr>\n",
       "  </tbody>\n",
       "</table>\n",
       "</div>"
      ],
      "text/plain": [
       "                                            filename              name  \\\n",
       "0  2023-08-28 - Wesley Ordonez Resume Wesley Ordo...    Wesley Ordoñez   \n",
       "1  2023-08-26 - Akhil Bukkapuram Resume Akhil_ds.pdf  Akhil Bukkapuram   \n",
       "2  2023-08-20 - Weihao Chen Resume Resume_Weihao ...       Weihao Chen   \n",
       "\n",
       "                   email                YoE  all_total_yoe parsing_status  \n",
       "0  wesordonez1@gmail.com  6 Years 11 Months            6.0        success  \n",
       "1        bakhil@ncsu.edu   5 Years 0 Months            5.0        success  \n",
       "2        wchen151@jh.edu   3 Years 0 Months            3.0        success  "
      ]
     },
     "metadata": {},
     "output_type": "display_data"
    }
   ],
   "source": [
    "# Parse multiple resumes (with minimal parameters)\n",
    "if len(resume_paths) > 1:\n",
    "    try:\n",
    "        # Limit to 3 resumes for quick demo\n",
    "        resumes_to_parse = resume_paths[:3]\n",
    "        \n",
    "        # Parse resumes with error handling\n",
    "        df = parse_many_resumes(\n",
    "            client=client,\n",
    "            resume_paths=resumes_to_parse,\n",
    "            date_of_resume_submission=date_of_resume_submission,\n",
    "            job_description=job_description,\n",
    "            parallel=True\n",
    "        )\n",
    "        \n",
    "        # Show results\n",
    "        print(f\"Processed {len(df)} resumes\")\n",
    "        print(f\"Successfully parsed: {(df['parsing_status'] == 'success').sum()}\")\n",
    "        \n",
    "        # Check for errors\n",
    "        failed = df[df['parsing_status'] == 'failed']\n",
    "        if not failed.empty:\n",
    "            print(f\"Failed to parse {len(failed)} resumes\")\n",
    "            for _, row in failed.iterrows():\n",
    "                print(f\"- {row.get('filename', 'Unknown file')}: {row.get('error', 'Unknown error')}\")\n",
    "        \n",
    "        # Add numeric YoE columns if they don't exist (fall back safely)\n",
    "        numeric_cols = ['all_work_yoe_numeric', 'all_edu_yoe_numeric', 'all_total_yoe']\n",
    "        for col in numeric_cols:\n",
    "            if col not in df.columns:\n",
    "                df[col] = 0\n",
    "        \n",
    "        # Show YoE statistics (with safe access)\n",
    "        try:\n",
    "            successful_df = df[df['parsing_status'] == 'success']\n",
    "            if not successful_df.empty and 'all_total_yoe' in successful_df.columns:\n",
    "                print(\"\\nYoE Statistics:\")\n",
    "                print(f\"Average Total YoE: {successful_df['all_total_yoe'].mean():.1f} years\")\n",
    "                print(f\"Min Total YoE: {successful_df['all_total_yoe'].min():.1f} years\")\n",
    "                print(f\"Max Total YoE: {successful_df['all_total_yoe'].max():.1f} years\")\n",
    "        except Exception as e:\n",
    "            print(f\"Could not calculate YoE statistics: {str(e)}\")\n",
    "        \n",
    "        # Dynamically show whatever columns are available (with safe access)\n",
    "        cols = [col for col in ['filename', 'name', 'email', 'YoE', 'all_total_yoe', 'parsing_status'] if col in df.columns]\n",
    "        if cols:\n",
    "            display(df[cols].head())\n",
    "        else:\n",
    "            print(\"No standard columns available to display\")\n",
    "            display(df.head())\n",
    "    except Exception as e:\n",
    "        print(f\"❌ Error in batch processing: {str(e)}\")\n",
    "        import traceback\n",
    "        traceback.print_exc()"
   ]
  },
  {
   "cell_type": "code",
   "execution_count": 5,
   "id": "9f183ae9",
   "metadata": {},
   "outputs": [
    {
     "name": "stdout",
     "output_type": "stream",
     "text": [
      "Results saved to resume_results.csv\n"
     ]
    }
   ],
   "source": [
    "# Quick save to CSV\n",
    "if 'df' in locals():\n",
    "    df.to_csv(\"resume_results.csv\", index=False)\n",
    "    print(\"Results saved to resume_results.csv\")"
   ]
  },
  {
   "cell_type": "markdown",
   "id": "4c9ffff9",
   "metadata": {},
   "source": [
    "## Understanding YoE Conversion\n",
    "\n",
    "The system extracts years of experience in this format: \"X Years Y Months\". This is stored in the `YoE` field.\n",
    "\n",
    "For numerical calculations, the system provides these fields:\n",
    "- `all_work_yoe_numeric`: The numeric value of work experience years \n",
    "- `all_edu_yoe_numeric`: The numeric value of education years\n",
    "- `all_total_yoe`: The sum of work and education years\n",
    "\n",
    "When YoE values are in string format like \"6 Years 11 Months\", the numeric fields extract the first number (6) for calculations.\n",
    "\n",
    "### Error Handling\n",
    "\n",
    "The system includes robust error handling:\n",
    "1. If YoE is a proper number, it's used directly\n",
    "2. If YoE is a string, regex extracts the first number\n",
    "3. If conversion fails, numeric fields default to 0\n",
    "4. If there's a processing error, all fallback safely\n",
    "\n",
    "This ensures notebooks won't fail even with varied YoE formats."
   ]
  }
 ],
 "metadata": {
  "kernelspec": {
   "display_name": "resume_parsing",
   "language": "python",
   "name": "python3"
  },
  "language_info": {
   "codemirror_mode": {
    "name": "ipython",
    "version": 3
   },
   "file_extension": ".py",
   "mimetype": "text/x-python",
   "name": "python",
   "nbconvert_exporter": "python",
   "pygments_lexer": "ipython3",
   "version": "3.11.0"
  }
 },
 "nbformat": 4,
 "nbformat_minor": 5
}
